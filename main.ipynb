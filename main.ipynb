{
 "cells": [
  {
   "cell_type": "code",
   "execution_count": 1,
   "metadata": {},
   "outputs": [],
   "source": [
    "from ext import *\n",
    "\n",
    "%load_ext autoreload\n",
    "%autoreload 2"
   ]
  },
  {
   "cell_type": "code",
   "execution_count": 2,
   "metadata": {},
   "outputs": [
    {
     "name": "stdout",
     "output_type": "stream",
     "text": [
      "[7, 3, 2, 8, 5, 6, 9, 4, 0, 1]\n"
     ]
    }
   ],
   "source": [
    "N = 10\n",
    "l = list(range(N))\n",
    "\n",
    "import random\n",
    "random.seed(42)\n",
    "random.shuffle(l)\n",
    "print(l)"
   ]
  },
  {
   "cell_type": "code",
   "execution_count": 4,
   "metadata": {},
   "outputs": [
    {
     "name": "stdout",
     "output_type": "stream",
     "text": [
      "global depth: 0\n",
      "\tid: 0 local_depth: 0\t []\n",
      "\n",
      "global depth: 0\n",
      "\tid: 0 local_depth: 0\t [(7, 49)]\n",
      "\n",
      "global depth: 0\n",
      "\tid: 0 local_depth: 0\t [(7, 49), (3, 9)]\n",
      "\n",
      "global depth: 1\n",
      "\tid: 0 local_depth: 1\t [(2, 4)]\n",
      "\tid: 1 local_depth: 1\t [(7, 49), (3, 9)]\n",
      "\n",
      "global depth: 1\n",
      "\tid: 0 local_depth: 1\t [(2, 4), (8, 64)]\n",
      "\tid: 1 local_depth: 1\t [(7, 49), (3, 9)]\n",
      "\n",
      "global depth: 2\n",
      "\tid: 0 local_depth: 1\t [(2, 4), (8, 64)]\n",
      "\tid: 1 local_depth: 2\t [(5, 25)]\n",
      "\tid: 2 local_depth: 1\t [(2, 4), (8, 64)]\n",
      "\tid: 3 local_depth: 2\t [(7, 49), (3, 9)]\n",
      "\n",
      "global depth: 2\n",
      "\tid: 0 local_depth: 2\t [(8, 64)]\n",
      "\tid: 1 local_depth: 2\t [(5, 25)]\n",
      "\tid: 2 local_depth: 2\t [(2, 4), (6, 36)]\n",
      "\tid: 3 local_depth: 2\t [(7, 49), (3, 9)]\n",
      "\n",
      "global depth: 2\n",
      "\tid: 0 local_depth: 2\t [(8, 64)]\n",
      "\tid: 1 local_depth: 2\t [(5, 25), (9, 81)]\n",
      "\tid: 2 local_depth: 2\t [(2, 4), (6, 36)]\n",
      "\tid: 3 local_depth: 2\t [(7, 49), (3, 9)]\n",
      "\n",
      "global depth: 2\n",
      "\tid: 0 local_depth: 2\t [(8, 64), (4, 16)]\n",
      "\tid: 1 local_depth: 2\t [(5, 25), (9, 81)]\n",
      "\tid: 2 local_depth: 2\t [(2, 4), (6, 36)]\n",
      "\tid: 3 local_depth: 2\t [(7, 49), (3, 9)]\n",
      "\n",
      "global depth: 3\n",
      "\tid: 0 local_depth: 3\t [(8, 64), (0, 0)]\n",
      "\tid: 1 local_depth: 2\t [(5, 25), (9, 81)]\n",
      "\tid: 2 local_depth: 2\t [(2, 4), (6, 36)]\n",
      "\tid: 3 local_depth: 2\t [(7, 49), (3, 9)]\n",
      "\tid: 4 local_depth: 3\t [(4, 16)]\n",
      "\tid: 5 local_depth: 2\t [(5, 25), (9, 81)]\n",
      "\tid: 6 local_depth: 2\t [(2, 4), (6, 36)]\n",
      "\tid: 7 local_depth: 2\t [(7, 49), (3, 9)]\n",
      "\n",
      "global depth: 3\n",
      "\tid: 0 local_depth: 3\t [(8, 64), (0, 0)]\n",
      "\tid: 1 local_depth: 3\t [(9, 81), (1, 1)]\n",
      "\tid: 2 local_depth: 2\t [(2, 4), (6, 36)]\n",
      "\tid: 3 local_depth: 2\t [(7, 49), (3, 9)]\n",
      "\tid: 4 local_depth: 3\t [(4, 16)]\n",
      "\tid: 5 local_depth: 3\t [(5, 25)]\n",
      "\tid: 6 local_depth: 2\t [(2, 4), (6, 36)]\n",
      "\tid: 7 local_depth: 2\t [(7, 49), (3, 9)]\n",
      "\n",
      "0\n",
      "1\n",
      "4\n",
      "9\n",
      "16\n",
      "25\n",
      "36\n",
      "49\n",
      "64\n",
      "81\n"
     ]
    }
   ],
   "source": [
    "eh = ExtendibleHashing(page_size=2)\n",
    "print(eh)\n",
    "\n",
    "for x in l:\n",
    "    eh.put(x, x ** 2)\n",
    "    print(eh)\n",
    "\n",
    "for i in range(N):\n",
    "    print(eh.get(i))"
   ]
  }
 ],
 "metadata": {
  "kernelspec": {
   "display_name": "tf28",
   "language": "python",
   "name": "python3"
  },
  "language_info": {
   "codemirror_mode": {
    "name": "ipython",
    "version": 3
   },
   "file_extension": ".py",
   "mimetype": "text/x-python",
   "name": "python",
   "nbconvert_exporter": "python",
   "pygments_lexer": "ipython3",
   "version": "3.9.0"
  },
  "orig_nbformat": 4
 },
 "nbformat": 4,
 "nbformat_minor": 2
}
